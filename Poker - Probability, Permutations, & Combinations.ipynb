{
 "cells": [
  {
   "cell_type": "markdown",
   "metadata": {},
   "source": [
    "# Probability, Combinations, & Permutations\n",
    "* basic probability\n",
    "* independent vs. dependent\n",
    "* permutations\n",
    "* combinations\n",
    "\n",
    "## Explore independent/dependent events, scenarios involving multiple events, and the concept of expected value"
   ]
  },
  {
   "cell_type": "code",
   "execution_count": 1,
   "metadata": {},
   "outputs": [],
   "source": [
    "import numpy as np\n",
    "import pandas as pd"
   ]
  },
  {
   "cell_type": "markdown",
   "metadata": {},
   "source": [
    "### Standard 52-card deck"
   ]
  },
  {
   "attachments": {
    "all_52.png": {
     "image/png": "[encoded data removed]"
    }
   },
   "cell_type": "markdown",
   "metadata": {},
   "source": [
    "![all_52.png](attachment:all_52.png)"
   ]
  },
  {
   "cell_type": "markdown",
   "metadata": {},
   "source": [
    "### The probability of drawing a King\n",
    "* 4 Kings\n",
    "* P(A) = 4 / 52"
   ]
  },
  {
   "cell_type": "code",
   "execution_count": 3,
   "metadata": {},
   "outputs": [
    {
     "name": "stdout",
     "output_type": "stream",
     "text": [
      "Probability of drawing a King: 0.07692307692307693\n",
      "Percent Chance of drawing a King: 7.6923076923076925%\n"
     ]
    }
   ],
   "source": [
    "cards = 52\n",
    "Kings = 4\n",
    "Aces = 4\n",
    "Queens = 4\n",
    "\n",
    "King_prob = 4 / 52\n",
    "\n",
    "print('Probability of drawing a King:', King_prob)\n",
    "print('Percent Chance of drawing a King:', str(King_prob * 100) + '%')"
   ]
  },
  {
   "cell_type": "markdown",
   "metadata": {},
   "source": [
    "### Assign Variables for the other events"
   ]
  },
  {
   "cell_type": "code",
   "execution_count": 4,
   "metadata": {},
   "outputs": [],
   "source": [
    "hearts = 13\n",
    "spades = 13\n",
    "diamonds = 13\n",
    "clubs = 13\n",
    "\n",
    "face_cards = 12"
   ]
  },
  {
   "cell_type": "markdown",
   "metadata": {},
   "source": [
    "### Create a Function - to reveal the Probability of an Event\n",
    "* event_probability( )\n",
    "* add 2 arguments - event_outcomes, sample_space"
   ]
  },
  {
   "cell_type": "code",
   "execution_count": 5,
   "metadata": {},
   "outputs": [],
   "source": [
    "def event_probability(event_outcomes, sample_space):\n",
    "    probability = (event_outcomes / sample_space) * 100\n",
    "    return round(probability, 3)"
   ]
  },
  {
   "cell_type": "markdown",
   "metadata": {},
   "source": [
    "### Use Function for Percentage chance of drawing:\n",
    "* a spade\n",
    "* a Jack, Queen, or King\n",
    "* a King of spades"
   ]
  },
  {
   "cell_type": "code",
   "execution_count": 6,
   "metadata": {},
   "outputs": [
    {
     "name": "stdout",
     "output_type": "stream",
     "text": [
      "Chance of a spade: 25.0%\n",
      "Chance of a face card: 23.077%\n",
      "Chance of King of spades: 1.923%\n"
     ]
    }
   ],
   "source": [
    "spade_prob = event_probability(spades, cards)\n",
    "\n",
    "face_prob = event_probability(face_cards, cards)\n",
    "\n",
    "King_of_spades = 1\n",
    "King_of_spades_prob = event_probability(King_of_spades, cards)\n",
    "\n",
    "print('Chance of a spade:', str(spade_prob) + '%')\n",
    "print('Chance of a face card:', str(face_prob) + '%')\n",
    "print('Chance of King of spades:', str(King_of_spades_prob) + '%')"
   ]
  },
  {
   "cell_type": "markdown",
   "metadata": {},
   "source": [
    "# Permutations\n",
    "* number of ways a subset (of a given size) can be arranged out of a given set\n",
    "* ordering matters\n",
    "\n",
    "### Formula - *n*P*k* = *n*! / (*n - k*)!\n",
    "* n - total numbers to choose from\n",
    "* k - numbers actually desired to choose from\n",
    "* ! - indicated factorial (3! = 1 * 2 * 3)\n",
    "\n",
    "### Example - number of permutations of Pocket Aces\n",
    "* n - 4, all aces\n",
    "* k - 2, can have 2 for pocket aces"
   ]
  },
  {
   "cell_type": "code",
   "execution_count": 7,
   "metadata": {},
   "outputs": [
    {
     "name": "stdout",
     "output_type": "stream",
     "text": [
      "12.0\n"
     ]
    }
   ],
   "source": [
    "import math\n",
    "\n",
    "n = 4\n",
    "k = 2\n",
    "permutations = math.factorial(n) / math.factorial(n-k)\n",
    "\n",
    "print(permutations)"
   ]
  },
  {
   "cell_type": "markdown",
   "metadata": {},
   "source": [
    "# Combinations\n",
    "* number of ways a subset (of a given size) can be drawn from a set\n",
    "* ordering does Not matter\n",
    "\n",
    "### Formula - *n*C*k* = (*n*! / (*n - k*)!) / *k*!, or\n",
    "### Formula - *n*C*k* = *n*P*k* / *k*!\n",
    "* without ordering, figure out the permutations and divide by the redundancies\n",
    "\n",
    "### Example - number of combinations of possible starting hands dealt in Texas Hold'em\n",
    "* n - 52, all possible cards\n",
    "* k - 2, number of cards in hand"
   ]
  },
  {
   "cell_type": "code",
   "execution_count": 9,
   "metadata": {},
   "outputs": [
    {
     "name": "stdout",
     "output_type": "stream",
     "text": [
      "Permutations: 2652.0\n",
      "Combinations: 1326.0\n"
     ]
    }
   ],
   "source": [
    "n = 52\n",
    "k = 2\n",
    "\n",
    "permutations = math.factorial(n) / math.factorial(n-k)\n",
    "combinations = permutations / math.factorial(k)\n",
    "\n",
    "print('Permutations:', permutations)\n",
    "print('Combinations:', combinations)"
   ]
  },
  {
   "cell_type": "markdown",
   "metadata": {},
   "source": [
    "# Event Probability - Independent vs. Dependent\n",
    "* Independent - events of this nature, do Not affect the probability of other events\n",
    "    * knowing if one event happened provides No information about the other event\n",
    "* Dependent - events which influence the probability of other events\n",
    "    * drawing a card from a deck, affects the probability of the remaining cards to be drawn\n",
    "    \n",
    "### Example - probability of drawing an ace (as the 2nd card), if a King or ace has already been drawn (as the 1st card)\n",
    "* specify the sample space\n",
    "* find probabilities for the 2 different scenarios"
   ]
  },
  {
   "cell_type": "code",
   "execution_count": 10,
   "metadata": {},
   "outputs": [
    {
     "name": "stdout",
     "output_type": "stream",
     "text": [
      "7.843 5.882\n"
     ]
    }
   ],
   "source": [
    "cards = 52\n",
    "cards_drawn = 1\n",
    "cards = cards - cards_drawn\n",
    "\n",
    "aces = 4\n",
    "\n",
    "ace_prob1 = event_probability(aces, cards)\n",
    "\n",
    "aces_drawn = 1\n",
    "aces = aces - aces_drawn\n",
    "\n",
    "ace_prob2 = event_probability(aces, cards)\n",
    "\n",
    "print(ace_prob1, ace_prob2)"
   ]
  },
  {
   "cell_type": "markdown",
   "metadata": {},
   "source": [
    "* percent chance of drawing an ace, after having drawn a King - 7.845 %\n",
    "* probability of drawing an ace, after having drawn an ace - 0.05882 %"
   ]
  },
  {
   "cell_type": "markdown",
   "metadata": {},
   "source": [
    "### Example - probability of drawing Open-ended straight draw, as River card\n",
    "* Hand - Jack & 10, both of hearts\n",
    "* Community - 9 (diamonds), 3 (clubs), Queen (spades), 5 (hearts)\n",
    "* probability of drawing any 8, or any King "
   ]
  },
  {
   "cell_type": "code",
   "execution_count": 11,
   "metadata": {},
   "outputs": [
    {
     "name": "stdout",
     "output_type": "stream",
     "text": [
      "17.391\n"
     ]
    }
   ],
   "source": [
    "cards = 52\n",
    "hole_cards = 2\n",
    "turn_community_cards = 4\n",
    "cards = cards - (hole_cards + turn_community_cards)\n",
    "\n",
    "eights = 4\n",
    "kings = 4\n",
    "\n",
    "outs = eights + kings\n",
    "\n",
    "river_straight_probability = event_probability(outs, cards)\n",
    "\n",
    "print(river_straight_probability)"
   ]
  },
  {
   "cell_type": "markdown",
   "metadata": {},
   "source": [
    "* probability of drawing an open-ended straight on the river - 17.391 %\n",
    "\n",
    "# Multiple Events\n",
    "* Calculating the probability of multiple events involves:\n",
    "    * specify the number of events \n",
    "    * find the probability of each happening separately\n",
    "    * multiply these probabilities together\n",
    "\n",
    "### Mutually Exclusive Events\n",
    "* when multiple events can Not both occur\n",
    "* some event(s) \"OR\" some different event(s)\n",
    "* calculating mutually exclusive events involves:\n",
    "    * adding (rather than multiplying) the probability of each event\n",
    "    \n",
    "### Example - probability of drawing a spade, or diamond"
   ]
  },
  {
   "cell_type": "code",
   "execution_count": 14,
   "metadata": {},
   "outputs": [
    {
     "name": "stdout",
     "output_type": "stream",
     "text": [
      "50.0\n"
     ]
    }
   ],
   "source": [
    "cards = 52\n",
    "\n",
    "spades = 13\n",
    "diamonds = 13\n",
    "\n",
    "spade_or_diamond = event_probability(spades, cards) + event_probability(diamonds, cards)\n",
    "\n",
    "print(spade_or_diamond)"
   ]
  },
  {
   "cell_type": "markdown",
   "metadata": {},
   "source": [
    "* percent chance of drawing a spade or a diamond - 50 %\n",
    "\n",
    "### Example - probability of drawing an ace, King, or Queen"
   ]
  },
  {
   "cell_type": "code",
   "execution_count": 13,
   "metadata": {},
   "outputs": [
    {
     "name": "stdout",
     "output_type": "stream",
     "text": [
      "23.076\n"
     ]
    }
   ],
   "source": [
    "cards = 52 \n",
    "\n",
    "aces = 4\n",
    "kings = 4\n",
    "queens = 4\n",
    "\n",
    "ace_king_or_queen = event_probability(aces, cards) + event_probability(kings, cards) + event_probability(queens, cards)\n",
    "\n",
    "print(ace_king_or_queen)"
   ]
  },
  {
   "cell_type": "markdown",
   "metadata": {},
   "source": [
    "* percent chance of drawing an ace, King, or Queen - 23.076 %\n",
    "\n",
    "### Non-mutually Exclusive Events\n",
    "* these events both occur together\n",
    "* calculating the probability involves:\n",
    "    * adding the probabilities of each event, then subtracting the probability of both events (together) occurring\n",
    "    \n",
    "### Example - probability of drawing a diamond Or ace"
   ]
  },
  {
   "cell_type": "code",
   "execution_count": 17,
   "metadata": {},
   "outputs": [
    {
     "name": "stdout",
     "output_type": "stream",
     "text": [
      "30.769\n"
     ]
    }
   ],
   "source": [
    "cards = 52\n",
    "\n",
    "diamonds = 13\n",
    "aces = 4\n",
    "ace_of_diamonds = 1\n",
    "\n",
    "diamond_or_ace = event_probability(diamonds, cards) + event_probability(aces, cards) - event_probability(ace_of_diamonds, cards)\n",
    "\n",
    "print(diamond_or_ace)"
   ]
  },
  {
   "cell_type": "markdown",
   "metadata": {},
   "source": [
    "* percent chance of drawing an ace or a diamond - 30.769 %\n",
    "\n",
    "### Example - probability of drawing a face card Or a red card"
   ]
  },
  {
   "cell_type": "code",
   "execution_count": 18,
   "metadata": {},
   "outputs": [
    {
     "name": "stdout",
     "output_type": "stream",
     "text": [
      "61.539\n"
     ]
    }
   ],
   "source": [
    "cards = 52\n",
    "\n",
    "red_cards = 26\n",
    "face_cards = 12\n",
    "red_face_cards = 6\n",
    "\n",
    "red_or_face_cards = event_probability(red_cards, cards) + event_probability(face_cards, cards) - event_probability(red_face_cards, cards)\n",
    "\n",
    "print(red_or_face_cards)"
   ]
  },
  {
   "cell_type": "markdown",
   "metadata": {},
   "source": [
    "* percent chance of drawing a face card or a red card - 61.539 %\n",
    "\n",
    "### Intersection of Multiple Dependent Events\n",
    "* probability of one event, and then another event (given the 1st event)\n",
    "* calculated by - probability of the 1st event multiplied by the probability of the 2nd event (conditioned on the 1st event)\n",
    "\n",
    "### Example - probability of getting pocket aces"
   ]
  },
  {
   "cell_type": "code",
   "execution_count": 19,
   "metadata": {},
   "outputs": [
    {
     "name": "stdout",
     "output_type": "stream",
     "text": [
      "0.4524886877828055\n"
     ]
    }
   ],
   "source": [
    "cards = 52\n",
    "\n",
    "aces = 4\n",
    "\n",
    "first_ace_probability = aces / cards\n",
    "\n",
    "# second draw\n",
    "cards = cards - 1\n",
    "\n",
    "# second draw\n",
    "aces = aces - 1\n",
    "\n",
    "second_ace_probability = aces / cards\n",
    "\n",
    "both_aces_probability = first_ace_probability * second_ace_probability * 100\n",
    "\n",
    "print(both_aces_probability)"
   ]
  },
  {
   "cell_type": "markdown",
   "metadata": {},
   "source": [
    "* percent chance of being dealt pocket aces - 0.452 %\n",
    "\n",
    "### Example - probability of hitting a flush draw, with the Turn and River remaining\n",
    "* hand - ace (diamond), Queen (diamond)\n",
    "* community - Jack (club), 9 (diamond), 4 (diamond)\n",
    "* probability of drawing a diamond - However, this is a special case\n",
    "    * there are 4 different possible outcomes\n",
    "        * Turn-Diamond, River-Diamond - Turn-Diamond, River-Not - Turn-Not, River-Diamond - Turn-Not, River-Not\n",
    "    * task here is figuring out the probability of the 1st 3 of those options\n",
    "    * since all 4 options (probabilities) add up to 1, could simply subtract the probability of the last option from 1\n",
    "    \n",
    "#### Find the probability of Not getting a diamond on the Turn or River - subtract this probability from 1"
   ]
  },
  {
   "cell_type": "code",
   "execution_count": 20,
   "metadata": {},
   "outputs": [
    {
     "name": "stdout",
     "output_type": "stream",
     "text": [
      "0.38390379278445874\n"
     ]
    }
   ],
   "source": [
    "# turn sample\n",
    "\n",
    "cards = 52\n",
    "\n",
    "hole_cards = 2\n",
    "flop_community_cards = 3\n",
    "\n",
    "cards = cards - (hole_cards + flop_community_cards)\n",
    "\n",
    "diamonds = 13\n",
    "diamonds_drawn = 4\n",
    "non_diamonds_drawn = 1\n",
    "outs = diamonds - diamonds_drawn\n",
    "\n",
    "turn_non_diamonds = cards - outs - non_diamonds_drawn \n",
    "\n",
    "no_diamond_turn_probability = turn_non_diamonds / cards\n",
    "\n",
    "\n",
    "# river sample\n",
    "\n",
    "turn_community_card = 1\n",
    "cards = cards - turn_community_card\n",
    "\n",
    "river_non_diamonds = turn_non_diamonds - turn_community_card\n",
    "\n",
    "no_diamond_river_probability = river_non_diamonds / cards\n",
    "\n",
    "\n",
    "# probability of not getting a diamond on Turn or River\n",
    "\n",
    "no_flush_probability = no_diamond_turn_probability * no_diamond_river_probability\n",
    "\n",
    "# Subtract this probability from 1 to find - Probability of a diamond on the Turn or River\n",
    "\n",
    "flush_probability = 1 - no_flush_probability\n",
    "\n",
    "print(flush_probability)"
   ]
  },
  {
   "cell_type": "markdown",
   "metadata": {},
   "source": [
    "* in the above scenario, the percent chance of getting a flush draw on the Turn or River - 38.390 %\n",
    "\n",
    "### Example - with the scenario above, probability of drawing a diamond on the Turn Or River \n",
    "* already have the probability of Not hitting the Flush (drawing No diamonds)\n",
    "    * add this, to the probability of hitting on the Turn And River (Turn-diamond prob * River-diamond prob)\n",
    "    * subtract this sum from 1"
   ]
  },
  {
   "cell_type": "code",
   "execution_count": 22,
   "metadata": {},
   "outputs": [
    {
     "name": "stdout",
     "output_type": "stream",
     "text": [
      "0.351\n"
     ]
    }
   ],
   "source": [
    "# turn sample\n",
    "\n",
    "cards = 52\n",
    "\n",
    "hole_cards = 2\n",
    "flop_community_cards = 3\n",
    "\n",
    "cards = cards - (hole_cards + flop_community_cards)\n",
    "\n",
    "diamonds = 13\n",
    "diamonds_drawn = 4\n",
    "\n",
    "outs = diamonds - diamonds_drawn\n",
    "\n",
    "\n",
    "# turn probability\n",
    "\n",
    "diamond_turn_probability = outs / cards\n",
    "\n",
    "\n",
    "# river sample\n",
    "\n",
    "turn_diamonds = 1\n",
    "\n",
    "cards = cards - turn_diamonds\n",
    "\n",
    "river_diamonds = outs - turn_diamonds\n",
    "\n",
    "\n",
    "# river probability\n",
    "\n",
    "diamond_river_probability = river_diamonds / cards\n",
    "\n",
    "\n",
    "# turn and river probability \n",
    "\n",
    "both_diamonds_probability = diamond_turn_probability * diamond_river_probability\n",
    "\n",
    "\n",
    "# add both_diamonds_probability to no_flush_probability - subtract this sum from 1\n",
    "\n",
    "one_diamond_probability = 1 - (no_flush_probability + both_diamonds_probability)\n",
    "\n",
    "\n",
    "# this is the probability of a diamond on the Turn OR River - covering the other 2/4 outcomes\n",
    "\n",
    "print(round(one_diamond_probability, 3))"
   ]
  },
  {
   "cell_type": "markdown",
   "metadata": {},
   "source": [
    "* there is a 35.1 % of drawing a diamond on the Turn Or River"
   ]
  },
  {
   "cell_type": "markdown",
   "metadata": {},
   "source": [
    "# Expected Value\n",
    "* how much one expects to gain or lose on average\n",
    "* calculated by multiplying the TotalValue * Probability\n",
    "    * this could be the Total Value in the Pot * Probability of winning the pot\n",
    "\n",
    "### Example - Should you call the following bet?\n",
    "* Hand - ace (diamond), Queen (diamond)\n",
    "* Community - Jack (clubs), 9 (diamond), 4 (diamond), 2 (spades)\n",
    "* opponent - 2 (hearts), 2 (clubs)\n",
    "* Total Pot - 60 dollars, Opponent bet - 20 dollars\n",
    "    * Must bet 20 dollars to remain in the hand\n",
    "    * if the expected value is Larger than the 20 - Should bet\n",
    "    * if not - Should fold\n",
    "\n",
    "### To win, any diamond is needed Except the Jack or 2\n",
    "* the Jack or 2 would improve the opponent's hand to winning\n",
    "* find the expected value"
   ]
  },
  {
   "cell_type": "code",
   "execution_count": 23,
   "metadata": {},
   "outputs": [
    {
     "name": "stdout",
     "output_type": "stream",
     "text": [
      "9.55 Fold\n"
     ]
    }
   ],
   "source": [
    "cards = 52\n",
    "\n",
    "hole_cards = 2\n",
    "opponents_hole_cards = 2 \n",
    "\n",
    "turn_community_cards = 4\n",
    "\n",
    "cards = cards - (hole_cards + opponents_hole_cards + turn_community_cards)\n",
    "\n",
    "\n",
    "# Outcomes\n",
    "\n",
    "diamonds = 13\n",
    "diamonds_drawn = 4\n",
    "\n",
    "# remember the two diamonds that help the opponent\n",
    "\n",
    "diamond_non_outs = 2 \n",
    "\n",
    "outs = diamonds - diamonds_drawn - diamond_non_outs\n",
    "\n",
    "\n",
    "# win probability\n",
    "\n",
    "win_probability = outs / cards\n",
    "\n",
    "\n",
    "# expected value\n",
    "\n",
    "pot = 60\n",
    "expected_value = pot * win_probability\n",
    "\n",
    "\n",
    "# Print expected value and whether to call or fold\n",
    "\n",
    "call_amount = 20\n",
    "if expected_value >= 20:\n",
    "    print(round(expected_value, 2), 'Call')\n",
    "else:\n",
    "    print(round(expected_value, 2), 'Fold')"
   ]
  },
  {
   "cell_type": "markdown",
   "metadata": {},
   "source": [
    "### Expected values is an important concept in poker - here, the potential gain of 9.55 dollars is substantially less than the 20 dollars required to make the call/take the risk"
   ]
  }
 ],
 "metadata": {
  "kernelspec": {
   "display_name": "Python 3",
   "language": "python",
   "name": "python3"
  },
  "language_info": {
   "codemirror_mode": {
    "name": "ipython",
    "version": 3
   },
   "file_extension": ".py",
   "mimetype": "text/x-python",
   "name": "python",
   "nbconvert_exporter": "python",
   "pygments_lexer": "ipython3",
   "version": "3.6.5"
  }
 },
 "nbformat": 4,
 "nbformat_minor": 2
}
